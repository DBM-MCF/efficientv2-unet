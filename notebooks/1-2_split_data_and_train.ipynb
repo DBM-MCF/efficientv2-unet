{
 "cells": [
  {
   "cell_type": "code",
   "execution_count": null,
   "metadata": {},
   "outputs": [],
   "source": [
    "import os\n",
    "from efficient_v2_unet.utils.data_generation import split_folder_files_to_train_val_test\n",
    "from efficient_v2_unet.model.efficient_v2_unet import create_and_train"
   ]
  },
  {
   "cell_type": "markdown",
   "metadata": {},
   "source": [
    "# Split training data and train a model (and evaluate)\n",
    "\n",
    "This notebook guides you through semi-automatic splitting of your training data into train, validation and test images.\n",
    "\n",
    "Please check the `1-1_train_notebook` notebook for more details and explanations.\n",
    "\n",
    "Basically, this notebook allows you to **randomly** split a folder of images (and the corresponding mask folder).\n",
    "\n",
    "## Data splitting\n",
    "\n",
    "Splitting the data will moving (not copying) your images into corresponding subfolders, named `train`, `val` and/or `test`.\n",
    "\n",
    "Further, you can decide:\n",
    "- creating only train and validation sets\n",
    "- creating only train and test sets\n",
    "- creating train, validation and test sets\n",
    "- choose the split perentage (default is 15% for validation, 15% test, and the rest is train)\n",
    "    - (it will not allow you to have more than 80% of validation and test images combined)\n",
    "\n",
    "If you have already split your train, validation and test images, you can skip the split function,\n",
    "and directly specify the image and mask paths in the `create_and_train` function.\n",
    "\n",
    "## Training\n",
    "\n",
    "Please see the `1-1_train_notebook` notebook for details."
   ]
  },
  {
   "cell_type": "code",
   "execution_count": null,
   "metadata": {},
   "outputs": [],
   "source": [
    "# Variables\n",
    "image_folder = 'path/to/images'     # folder with the images\n",
    "mask_folder = 'path/to/masks'       # folder with the corresponding masks [0=background, 1=foreground]\n",
    "basedir = 'path/to/saving_location' # base directory to save the model to\n",
    "\n",
    "efficientnet_basemodel = 'b0'       # any of ['b0', 'b1', 'b2', 'b3', 's', 'm', 'l']\n"
   ]
  },
  {
   "cell_type": "markdown",
   "metadata": {},
   "source": [
    "## Splitting your training data"
   ]
  },
  {
   "cell_type": "code",
   "execution_count": null,
   "metadata": {},
   "outputs": [],
   "source": [
    "(\n",
    "    train_image_path,\n",
    "    train_mask_path,\n",
    "    validation_image_path,\n",
    "    validation_mask_path,\n",
    "    test_image_path,\n",
    "    test_mask_path) = split_folder_files_to_train_val_test(\n",
    "        image_dir=image_folder,\n",
    "        mask_dir=mask_folder,\n",
    "        do_val=True,        # whether to create a subset / folder for validation images\n",
    "        do_test=True,       # wether to create a subset / folder for test images\n",
    "        split_val=0.15,     # percentage of validation split (i.e. 15%)\n",
    "        split_test=0.15,    # percentage of test split (i.e. 15%)\n",
    "        file_ext='.tif'\n",
    "    ) "
   ]
  },
  {
   "cell_type": "markdown",
   "metadata": {},
   "source": [
    "## Train your model (and evaluate)"
   ]
  },
  {
   "cell_type": "code",
   "execution_count": null,
   "metadata": {},
   "outputs": [],
   "source": [
    "model = create_and_train(\n",
    "    name=None,                          # if not specified it is named 'myEfficeintUNet_<efficientnet_basemodel>'\n",
    "    basedir=basedir,                    # if not specified it will be placed in the current wordking directory\n",
    "    train_img_dir=train_image_path,     # path (str) returned by the split_folder_files_to_train_val_test function\n",
    "    train_mask_dir=train_mask_path,     # path (str) returned by the split_folder_files_to_train_val_test function\n",
    "    val_img_dir=validation_image_path,  # path (str) returned by the split_folder_files_to_train_val_test function\n",
    "    val_mask_dir=validation_mask_path,  # path (str) returned by the split_folder_files_to_train_val_test function\n",
    "    test_img_dir=test_image_path,       # path (str) returned by the split_folder_files_to_train_val_test function\n",
    "    test_mask_dir=test_mask_path,       # path (str) returned by the split_folder_files_to_train_val_test function\n",
    "    efficientnet=efficientnet_basemodel,\n",
    "    epochs=100,                         # default\n",
    "    batch_size=64,                      # default\n",
    "    file_ext='.tif'                     # default\n",
    ")"
   ]
  }
 ],
 "metadata": {
  "language_info": {
   "name": "python"
  }
 },
 "nbformat": 4,
 "nbformat_minor": 2
}
