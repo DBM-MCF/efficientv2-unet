{
 "cells": [
  {
   "cell_type": "code",
   "execution_count": null,
   "metadata": {},
   "outputs": [],
   "source": [
    "from tifffile import imread, imwrite\n",
    "from glob import glob\n",
    "import os\n",
    "from efficient_v2_unet.model.predict import predict"
   ]
  },
  {
   "cell_type": "markdown",
   "metadata": {},
   "source": [
    "# Predict images and save them\n",
    "\n",
    "This notebook shows how to use a EfficientV2-UNet model to predict images.\n",
    "\n",
    "Images will be tiled (with overlap) for prediction and merged back together for the final output.\n",
    "\n",
    "\n",
    "## FIXME maybe use skimage.io.imsave"
   ]
  },
  {
   "cell_type": "code",
   "execution_count": null,
   "metadata": {},
   "outputs": [],
   "source": [
    "# Variables\n",
    "\n",
    "image_folder_path = 'path/to/image/folder'\n",
    "output_path = 'path/to/desired/output/folder'\n",
    "model_path = 'path/to/model/model.h5'\n",
    "image_file_extension = '.tif'\n",
    "my_threshold = 0.5"
   ]
  },
  {
   "cell_type": "code",
   "execution_count": null,
   "metadata": {},
   "outputs": [],
   "source": [
    "# Load images\n",
    "\n",
    "image_paths = glob(image_folder_path + '/*' + image_file_extension)\n",
    "images = [imread(x) for x in image_paths]\n",
    "\n",
    "# Predict images\n",
    "predicted_images = predict(\n",
    "    images=images,\n",
    "    model=model_path,\n",
    "    threshold=my_threshold,      # default is None (i.e. no thresholding)\n",
    "    factor=1,           # default\n",
    "    batch_size=0        # default is 0 (=>32)\n",
    ")\n",
    "\n",
    "# Save images\n",
    "for img, path in zip(predicted_images, image_paths):\n",
    "    out_image_name = os.path.basename(path)\n",
    "    out_image_path = os.path.join(output_path, out_image_name)\n",
    "    imwrite(out_image_path, img)\n",
    "    print('Saved image to:', out_image_path)"
   ]
  },
  {
   "cell_type": "markdown",
   "metadata": {},
   "source": [
    "### Parameters explained\n",
    "\n",
    "**images**: single numpy array or a list of numpy arrays\n",
    "\n",
    "**model**: can be a string path to the model.h5 file or an already loaded model.\n",
    "\n",
    "**threshold**: the threshold to be used on the prediction map. If `None`, it will save the prediction maps.\n",
    "\n",
    "**factor**: the downscaling factor to predict the images on. E.g. `factor=2` will half the resolution (and image size) just before prediction.\n",
    "After the prediction the image is rescaled to the original image size.\n",
    "\n",
    "**batch_size**: number of image-tiles to be predicted in a batch. The default is 0, which sets it to 32. When memory is problem, the value can be decreased by factors of 2 (e.g. 16, ..., 2, 1)\n",
    "\n",
    "### Other parameters\n",
    "\n",
    "**tile_size**: default is 512. Size of tiling in pixels (e.g. 512x512)\n",
    "\n",
    "**overlap**: overlap between tiles in pixels, default is 0, which takes 15% of the tile size."
   ]
  }
 ],
 "metadata": {
  "language_info": {
   "name": "python"
  }
 },
 "nbformat": 4,
 "nbformat_minor": 2
}
